{
 "cells": [
  {
   "metadata": {
    "collapsed": true
   },
   "cell_type": "code",
   "outputs": [],
   "execution_count": null,
   "source": [
    "import torch\n",
    "from rfdetr import RFDETRBase\n",
    "model = RFDETRBase(\n",
    "    size=\"base\",\n",
    "    resolution=672,\n",
    "    gradient_checkpointing=True\n",
    ")\n",
    "checkpoint_path = \"/workspace/rfdetr_output/checkpoint.pth\"\n",
    "\n",
    "history = model.train(\n",
    "    dataset_dir=\"/workspace/dataset/ppe_coco_format\",\n",
    "    output_dir=\"/workspace/rfdetr_output\",\n",
    "    epochs=10,\n",
    "    batch_size=8,\n",
    "    grad_accum_steps=24,\n",
    "    lr=1e-4,\n",
    "    warmup_epochs=3,\n",
    "    lr_scheduler=\"cosine\",\n",
    "    weight_decay=1e-4,\n",
    "    optimizer=\"adamw\",\n",
    "    clip_grad_norm=1.0,\n",
    "    fp16=True,\n",
    "    num_workers=4,\n",
    "    checkpoint_interval=2,\n",
    "    save_best_model=True,\n",
    "    tensorboard=True,\n",
    "    early_stopping=True,\n",
    "    early_stopping_patience=5,\n",
    "    resume=checkpoint_path \n",
    ")"
   ],
   "id": "initial_id"
  }
 ],
 "metadata": {
  "kernelspec": {
   "display_name": "Python 3",
   "language": "python",
   "name": "python3"
  },
  "language_info": {
   "codemirror_mode": {
    "name": "ipython",
    "version": 2
   },
   "file_extension": ".py",
   "mimetype": "text/x-python",
   "name": "python",
   "nbconvert_exporter": "python",
   "pygments_lexer": "ipython2",
   "version": "2.7.6"
  }
 },
 "nbformat": 4,
 "nbformat_minor": 5
}
